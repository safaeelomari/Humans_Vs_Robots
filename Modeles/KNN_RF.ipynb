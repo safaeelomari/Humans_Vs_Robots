{
  "cells": [
    {
      "cell_type": "markdown",
      "id": "e214b83d",
      "metadata": {
        "id": "e214b83d"
      },
      "source": [
        "<h1><center> KNN & Random Forest : </center></h1>"
      ]
    },
    {
      "cell_type": "markdown",
      "id": "cf855faa",
      "metadata": {
        "id": "cf855faa"
      },
      "source": [
        "## Import Libraries"
      ]
    },
    {
      "cell_type": "code",
      "execution_count": 3,
      "id": "9e22936b",
      "metadata": {
        "id": "9e22936b"
      },
      "outputs": [],
      "source": [
        "import numpy as npSlide\n",
        "from sklearn.model_selection import train_test_split,  cross_val_score\n",
        "import matplotlib.pyplot as plt\n",
        "import pandas as pd\n",
        "import numpy as np\n",
        "from sklearn.ensemble import RandomForestClassifier\n",
        "from sklearn.metrics import confusion_matrix, precision_score, accuracy_score, recall_score, f1_score, roc_auc_score, balanced_accuracy_score\n",
        "import matplotlib.pyplot as plt\n",
        "import seaborn as sns\n",
        "from sklearn.linear_model import LinearRegression\n",
        "from sklearn.metrics import mean_squared_error, r2_score, mean_absolute_error, explained_variance_score, classification_report\n",
        "from sklearn.ensemble import RandomForestRegressor\n",
        "from sklearn.model_selection import GridSearchCV\n",
        "from sklearn.linear_model import LogisticRegression\n",
        "from sklearn.neighbors import KNeighborsClassifier"
      ]
    },
    {
      "cell_type": "markdown",
      "id": "e7c39fda",
      "metadata": {
        "id": "e7c39fda"
      },
      "source": [
        "## KNN"
      ]
    },
    {
      "cell_type": "markdown",
      "id": "bb41e86a",
      "metadata": {
        "id": "bb41e86a"
      },
      "source": [
        "### Première partie :\n",
        "\n",
        "> Dans cette étape nous allons entraîner notre modèle avec un dataset non équilibré (avant l'application du SMOTE sur les données d'entraînement)"
      ]
    },
    {
      "cell_type": "code",
      "execution_count": 4,
      "id": "5ae99b38",
      "metadata": {
        "id": "5ae99b38"
      },
      "outputs": [],
      "source": [
        "train_data = pd.read_csv('train.csv')\n",
        "test_data = pd.read_csv('test.csv')"
      ]
    },
    {
      "cell_type": "code",
      "execution_count": 5,
      "id": "1dfafd56",
      "metadata": {
        "id": "1dfafd56"
      },
      "outputs": [],
      "source": [
        "test_data.drop(columns='Unnamed: 0',inplace=True)\n",
        "train_data.drop(columns='Unnamed: 0',inplace=True)"
      ]
    },
    {
      "cell_type": "code",
      "execution_count": 6,
      "id": "a12759bd",
      "metadata": {
        "id": "a12759bd"
      },
      "outputs": [],
      "source": [
        "X_train=train_data.drop('outcome',axis=1)\n",
        "y_train=train_data['outcome']"
      ]
    },
    {
      "cell_type": "code",
      "execution_count": 7,
      "id": "b0a93b97",
      "metadata": {
        "id": "b0a93b97"
      },
      "outputs": [],
      "source": [
        "X_test=test_data.drop('outcome',axis=1)\n",
        "y_test=test_data['outcome']"
      ]
    },
    {
      "cell_type": "markdown",
      "id": "d0069f3d",
      "metadata": {
        "id": "d0069f3d"
      },
      "source": [
        "#### Utilisation de la validation croisée pour optimiser les hyper-paramétres du modèle"
      ]
    },
    {
      "cell_type": "code",
      "execution_count": 8,
      "id": "698704f5",
      "metadata": {
        "colab": {
          "base_uri": "https://localhost:8080/"
        },
        "id": "698704f5",
        "outputId": "5e4789c0-1f86-4224-b709-864b0a077182"
      },
      "outputs": [
        {
          "output_type": "stream",
          "name": "stdout",
          "text": [
            "Meilleurs hyperparamètres: {'n_neighbors': 9, 'p': 1}\n"
          ]
        }
      ],
      "source": [
        "# Paramètres à optimiser\n",
        "param_grid = {\n",
        "    'n_neighbors': [3, 5, 7, 9],  # Essayez différents nombres de voisins\n",
        "    'p': [1, 2],  # 1 pour la distance de Manhattan, 2 pour la distance euclidienne\n",
        "}\n",
        "\n",
        "# Initialiser le modèle K-NN\n",
        "knn_model = KNeighborsClassifier()\n",
        "\n",
        "# Utiliser GridSearchCV pour trouver les meilleurs hyperparamètres\n",
        "grid_search = GridSearchCV(knn_model, param_grid, cv=5, scoring='accuracy')\n",
        "grid_search.fit(X_train, y_train)\n",
        "\n",
        "# Afficher les meilleurs hyperparamètres trouvés\n",
        "print(\"Meilleurs hyperparamètres:\", grid_search.best_params_)\n",
        "\n",
        "# Faire des prédictions sur l'ensemble de test avec les meilleurs hyperparamètres\n",
        "y_pred = grid_search.predict(X_test)"
      ]
    },
    {
      "cell_type": "markdown",
      "id": "471ed8b8",
      "metadata": {
        "id": "471ed8b8"
      },
      "source": [
        "#### Evaluation de KNN"
      ]
    },
    {
      "cell_type": "code",
      "execution_count": 9,
      "id": "78269047",
      "metadata": {
        "colab": {
          "base_uri": "https://localhost:8080/",
          "height": 497
        },
        "id": "78269047",
        "outputId": "5c3dafa0-9264-4add-c1a6-48b302f3cbcb"
      },
      "outputs": [
        {
          "output_type": "stream",
          "name": "stdout",
          "text": [
            "Matrice de confusion:\n",
            "[[378   5]\n",
            " [ 18   2]]\n"
          ]
        },
        {
          "output_type": "display_data",
          "data": {
            "text/plain": [
              "<Figure size 400x400 with 1 Axes>"
            ],
            "image/png": "[encoded data removed]"
          },
          "metadata": {}
        },
        {
          "output_type": "stream",
          "name": "stdout",
          "text": [
            " Précision : 0.29, F1-score : 0.15, Rappel : 0.10\n",
            "Balanced Accuracy : 0.54, AUC-ROC : 0.54\n"
          ]
        }
      ],
      "source": [
        "# Matrice de confusion\n",
        "conf_matrix = confusion_matrix(y_test, y_pred)\n",
        "print(\"Matrice de confusion:\")\n",
        "print(conf_matrix)\n",
        "\n",
        "# Visualisation de la matrice de confusion\n",
        "plt.figure(figsize=(4, 4))\n",
        "sns.heatmap(conf_matrix, annot=True, fmt='d', cmap='Blues', cbar=False)\n",
        "plt.xlabel('Prédictions')\n",
        "plt.ylabel('Vraies étiquettes')\n",
        "plt.title('Matrice de confusion')\n",
        "plt.show()\n",
        "\n",
        "# Précision\n",
        "precision = precision_score(y_test, y_pred)\n",
        "\n",
        "# Rappel (Sensibilité)\n",
        "recall = recall_score(y_test, y_pred)\n",
        "\n",
        "# F1-score\n",
        "f1 = f1_score(y_test, y_pred)\n",
        "print(f\" Précision : {precision:.2f}, F1-score : {f1:.2f}, Rappel : {recall:.2f}\")\n",
        "# ROC AUC\n",
        "roc_auc = roc_auc_score(y_test, y_pred)\n",
        "\n",
        "# Balanced Accuracy\n",
        "balanced_acc = balanced_accuracy_score(y_test, y_pred)\n",
        "print(f\"Balanced Accuracy : {balanced_acc:.2f}, AUC-ROC : {roc_auc:.2f}\")"
      ]
    },
    {
      "cell_type": "markdown",
      "id": "5e5b5f97",
      "metadata": {
        "id": "5e5b5f97"
      },
      "source": [
        "### Deuxième partie :\n",
        "\n",
        "> Dans cette étape nous allons entraîner notre modèle avec un dataset équilibré (après l'application du SMOTE sur les données d'entraînement)"
      ]
    },
    {
      "cell_type": "code",
      "execution_count": 10,
      "id": "1830b55b",
      "metadata": {
        "id": "1830b55b"
      },
      "outputs": [],
      "source": [
        "train_smote = pd.read_csv('train_smote.csv')"
      ]
    },
    {
      "cell_type": "code",
      "execution_count": 11,
      "id": "1ffea8d7",
      "metadata": {
        "id": "1ffea8d7"
      },
      "outputs": [],
      "source": [
        "#test_data.drop(columns='Unnamed: 0',inplace=True)\n",
        "train_smote.drop(columns='Unnamed: 0',inplace=True)"
      ]
    },
    {
      "cell_type": "code",
      "execution_count": 12,
      "id": "ed5ae600",
      "metadata": {
        "id": "ed5ae600"
      },
      "outputs": [],
      "source": [
        "X_train=train_smote.drop('outcome',axis=1)\n",
        "y_train=train_smote['outcome']"
      ]
    },
    {
      "cell_type": "markdown",
      "id": "50a1b4be",
      "metadata": {
        "id": "50a1b4be"
      },
      "source": [
        "#### Utilisation de la validation croisée pour optimiser les hyper-paramétres du modèle"
      ]
    },
    {
      "cell_type": "code",
      "execution_count": 13,
      "id": "10094aac",
      "metadata": {
        "colab": {
          "base_uri": "https://localhost:8080/"
        },
        "id": "10094aac",
        "outputId": "a7a5e88a-6321-43f9-c56c-2e4a26c8972f"
      },
      "outputs": [
        {
          "output_type": "stream",
          "name": "stdout",
          "text": [
            "Meilleurs hyperparamètres: {'n_neighbors': 3, 'p': 1}\n"
          ]
        }
      ],
      "source": [
        "# Paramètres à optimiser\n",
        "param_grid = {\n",
        "    'n_neighbors': [3, 5, 7, 9],  # Essayez différents nombres de voisins\n",
        "    'p': [1, 2],  # 1 pour la distance de Manhattan, 2 pour la distance euclidienne\n",
        "}\n",
        "\n",
        "# Initialiser le modèle K-NN\n",
        "knn_model = KNeighborsClassifier()\n",
        "\n",
        "# Utiliser GridSearchCV pour trouver les meilleurs hyperparamètres\n",
        "grid_search = GridSearchCV(knn_model, param_grid, cv=5, scoring='accuracy')\n",
        "grid_search.fit(X_train, y_train)\n",
        "\n",
        "# Afficher les meilleurs hyperparamètres trouvés\n",
        "print(\"Meilleurs hyperparamètres:\", grid_search.best_params_)\n",
        "\n",
        "# Faire des prédictions sur l'ensemble de test avec les meilleurs hyperparamètres\n",
        "y_pred = grid_search.predict(X_test)"
      ]
    },
    {
      "cell_type": "markdown",
      "id": "2d7d5f7e",
      "metadata": {
        "id": "2d7d5f7e"
      },
      "source": [
        "#### Evaluation de KNN"
      ]
    },
    {
      "cell_type": "code",
      "execution_count": 14,
      "id": "74983e65",
      "metadata": {
        "colab": {
          "base_uri": "https://localhost:8080/",
          "height": 497
        },
        "id": "74983e65",
        "outputId": "c5a76b5a-b7b7-449b-d72e-d2716236c3c7"
      },
      "outputs": [
        {
          "output_type": "stream",
          "name": "stdout",
          "text": [
            "Matrice de confusion:\n",
            "[[331  52]\n",
            " [  7  13]]\n"
          ]
        },
        {
          "output_type": "display_data",
          "data": {
            "text/plain": [
              "<Figure size 400x400 with 1 Axes>"
            ],
            "image/png": "[encoded data removed]"
          },
          "metadata": {}
        },
        {
          "output_type": "stream",
          "name": "stdout",
          "text": [
            " Précision : 0.20, F1-score : 0.31, Rappel : 0.65\n",
            "Balanced Accuracy : 0.76, AUC-ROC : 0.76\n"
          ]
        }
      ],
      "source": [
        "# Matrice de confusion\n",
        "conf_matrix = confusion_matrix(y_test, y_pred)\n",
        "print(\"Matrice de confusion:\")\n",
        "print(conf_matrix)\n",
        "\n",
        "# Visualisation de la matrice de confusion\n",
        "plt.figure(figsize=(4, 4))\n",
        "sns.heatmap(conf_matrix, annot=True, fmt='d', cmap='Blues', cbar=False)\n",
        "plt.xlabel('Prédictions')\n",
        "plt.ylabel('Vraies étiquettes')\n",
        "plt.title('Matrice de confusion')\n",
        "plt.show()\n",
        "\n",
        "# Précision\n",
        "precision = precision_score(y_test, y_pred)\n",
        "\n",
        "# Rappel (Sensibilité)\n",
        "recall = recall_score(y_test, y_pred)\n",
        "\n",
        "# F1-score\n",
        "f1 = f1_score(y_test, y_pred)\n",
        "print(f\" Précision : {precision:.2f}, F1-score : {f1:.2f}, Rappel : {recall:.2f}\")\n",
        "# ROC AUC\n",
        "roc_auc = roc_auc_score(y_test, y_pred)\n",
        "\n",
        "# Balanced Accuracy\n",
        "balanced_acc = balanced_accuracy_score(y_test, y_pred)\n",
        "print(f\"Balanced Accuracy : {balanced_acc:.2f}, AUC-ROC : {roc_auc:.2f}\")"
      ]
    },
    {
      "cell_type": "markdown",
      "id": "cdb42945",
      "metadata": {
        "id": "cdb42945"
      },
      "source": [
        "## Random Forest"
      ]
    },
    {
      "cell_type": "markdown",
      "id": "8cfb6f25",
      "metadata": {
        "id": "8cfb6f25"
      },
      "source": [
        "### Première partie :\n",
        "\n",
        "> Dans cette étape nous allons entraîner notre modèle avec un dataset non équilibré (avant l'application du SMOTE sur les données d'entraînement)"
      ]
    },
    {
      "cell_type": "code",
      "execution_count": 15,
      "id": "64bae725",
      "metadata": {
        "id": "64bae725"
      },
      "outputs": [],
      "source": [
        "train_data = pd.read_csv('train.csv')\n",
        "test_data = pd.read_csv('test.csv')"
      ]
    },
    {
      "cell_type": "code",
      "execution_count": 16,
      "id": "528479d7",
      "metadata": {
        "id": "528479d7"
      },
      "outputs": [],
      "source": [
        "X_train=train_data.drop('outcome',axis=1)\n",
        "y_train=train_data['outcome']\n",
        "X_test=test_data.drop('outcome',axis=1)\n",
        "y_test=test_data['outcome']"
      ]
    },
    {
      "cell_type": "code",
      "execution_count": 17,
      "id": "2574f78f",
      "metadata": {
        "id": "2574f78f"
      },
      "outputs": [],
      "source": [
        "# Initialiser le modèle Random Forest\n",
        "rf_model = RandomForestClassifier(n_estimators=100, random_state=42)\n",
        "\n",
        "# Entraîner le modèle\n",
        "rf_model.fit(X_train, y_train)\n",
        "\n",
        "# Faire des prédictions sur l'ensemble de test\n",
        "y_pred_rf = rf_model.predict(X_test)"
      ]
    },
    {
      "cell_type": "markdown",
      "id": "2da99634",
      "metadata": {
        "id": "2da99634"
      },
      "source": [
        "### Evaluation du modèle"
      ]
    },
    {
      "cell_type": "code",
      "execution_count": 18,
      "id": "604b2a21",
      "metadata": {
        "colab": {
          "base_uri": "https://localhost:8080/",
          "height": 497
        },
        "id": "604b2a21",
        "outputId": "478ea91c-23e2-44ba-d2e2-2a16524ddb46"
      },
      "outputs": [
        {
          "output_type": "stream",
          "name": "stdout",
          "text": [
            "Matrice de confusion:\n",
            "[[380   3]\n",
            " [ 14   6]]\n"
          ]
        },
        {
          "output_type": "display_data",
          "data": {
            "text/plain": [
              "<Figure size 400x400 with 1 Axes>"
            ],
            "image/png": "[encoded data removed]"
          },
          "metadata": {}
        },
        {
          "output_type": "stream",
          "name": "stdout",
          "text": [
            " Précision : 0.67, F1-score : 0.41, Rappel : 0.30\n",
            "Balanced Accuracy : 0.65, AUC-ROC : 0.65\n"
          ]
        }
      ],
      "source": [
        "# Matrice de confusion\n",
        "conf_matrix = confusion_matrix(y_test, y_pred_rf)\n",
        "print(\"Matrice de confusion:\")\n",
        "print(conf_matrix)\n",
        "\n",
        "# Visualisation de la matrice de confusion\n",
        "plt.figure(figsize=(4, 4))\n",
        "sns.heatmap(conf_matrix, annot=True, fmt='d', cmap='Blues', cbar=False)\n",
        "plt.xlabel('Prédictions')\n",
        "plt.ylabel('Vraies étiquettes')\n",
        "plt.title('Matrice de confusion')\n",
        "plt.show()\n",
        "\n",
        "# Précision\n",
        "precision = precision_score(y_test, y_pred_rf)\n",
        "\n",
        "# Rappel (Sensibilité)\n",
        "recall = recall_score(y_test, y_pred_rf)\n",
        "\n",
        "# F1-score\n",
        "f1 = f1_score(y_test, y_pred_rf)\n",
        "print(f\" Précision : {precision:.2f}, F1-score : {f1:.2f}, Rappel : {recall:.2f}\")\n",
        "# ROC AUC\n",
        "roc_auc = roc_auc_score(y_test, y_pred_rf)\n",
        "\n",
        "# Balanced Accuracy\n",
        "balanced_acc = balanced_accuracy_score(y_test, y_pred_rf)\n",
        "print(f\"Balanced Accuracy : {balanced_acc:.2f}, AUC-ROC : {roc_auc:.2f}\")"
      ]
    },
    {
      "cell_type": "markdown",
      "id": "2920c0e8",
      "metadata": {
        "id": "2920c0e8"
      },
      "source": [
        "### Deuxième partie :\n",
        "\n",
        "> Dans cette étape nous allons entraîner notre modèle avec un dataset équilibré (après l'application du SMOTE sur les données d'entraînement)"
      ]
    },
    {
      "cell_type": "code",
      "execution_count": 19,
      "id": "087346e0",
      "metadata": {
        "id": "087346e0"
      },
      "outputs": [],
      "source": [
        "train_smote = pd.read_csv('train_smote.csv')\n",
        "test_data = pd.read_csv('test.csv')"
      ]
    },
    {
      "cell_type": "code",
      "execution_count": 20,
      "id": "81d2bba0",
      "metadata": {
        "id": "81d2bba0"
      },
      "outputs": [],
      "source": [
        "#test_data.drop(columns='Unnamed: 0',inplace=True)\n",
        "train_smote.drop(columns='Unnamed: 0',inplace=True)\n",
        "test_data.drop(columns='Unnamed: 0',inplace=True)"
      ]
    },
    {
      "cell_type": "code",
      "execution_count": 21,
      "id": "f8d0b5e1",
      "metadata": {
        "id": "f8d0b5e1"
      },
      "outputs": [],
      "source": [
        "X_train=train_smote.drop('outcome',axis=1)\n",
        "y_train=train_smote['outcome']"
      ]
    },
    {
      "cell_type": "code",
      "execution_count": 22,
      "id": "efe08370",
      "metadata": {
        "id": "efe08370"
      },
      "outputs": [],
      "source": [
        "X_test=test_data.drop('outcome',axis=1)\n",
        "y_test=test_data['outcome']"
      ]
    },
    {
      "cell_type": "code",
      "execution_count": 23,
      "id": "56747385",
      "metadata": {
        "id": "56747385"
      },
      "outputs": [],
      "source": [
        "# Initialiser le modèle Random Forest\n",
        "rf_model = RandomForestClassifier(n_estimators=100, random_state=42)\n",
        "\n",
        "# Entraîner le modèle\n",
        "rf_model.fit(X_train, y_train)\n",
        "\n",
        "# Faire des prédictions sur l'ensemble de test\n",
        "y_pred_rf = rf_model.predict(X_test)"
      ]
    },
    {
      "cell_type": "code",
      "execution_count": 24,
      "id": "afad09ff",
      "metadata": {
        "colab": {
          "base_uri": "https://localhost:8080/",
          "height": 497
        },
        "id": "afad09ff",
        "outputId": "7c2f717e-2068-436a-bdba-75221124d6c5"
      },
      "outputs": [
        {
          "output_type": "stream",
          "name": "stdout",
          "text": [
            "Matrice de confusion:\n",
            "[[372  11]\n",
            " [ 10  10]]\n"
          ]
        },
        {
          "output_type": "display_data",
          "data": {
            "text/plain": [
              "<Figure size 400x400 with 1 Axes>"
            ],
            "image/png": "[encoded data removed]"
          },
          "metadata": {}
        },
        {
          "output_type": "stream",
          "name": "stdout",
          "text": [
            " Précision : 0.48, F1-score : 0.49, Rappel : 0.50\n",
            "Balanced Accuracy : 0.74, AUC-ROC : 0.74\n"
          ]
        }
      ],
      "source": [
        "# Matrice de confusion\n",
        "conf_matrix = confusion_matrix(y_test, y_pred_rf)\n",
        "print(\"Matrice de confusion:\")\n",
        "print(conf_matrix)\n",
        "\n",
        "# Visualisation de la matrice de confusion\n",
        "plt.figure(figsize=(4, 4))\n",
        "sns.heatmap(conf_matrix, annot=True, fmt='d', cmap='Blues', cbar=False)\n",
        "plt.xlabel('Prédictions')\n",
        "plt.ylabel('Vraies étiquettes')\n",
        "plt.title('Matrice de confusion')\n",
        "plt.show()\n",
        "\n",
        "# Précision\n",
        "precision = precision_score(y_test, y_pred_rf)\n",
        "\n",
        "# Rappel (Sensibilité)\n",
        "recall = recall_score(y_test, y_pred_rf)\n",
        "\n",
        "# F1-score\n",
        "f1 = f1_score(y_test, y_pred_rf)\n",
        "print(f\" Précision : {precision:.2f}, F1-score : {f1:.2f}, Rappel : {recall:.2f}\")\n",
        "# ROC AUC\n",
        "roc_auc = roc_auc_score(y_test, y_pred_rf)\n",
        "\n",
        "# Balanced Accuracy\n",
        "balanced_acc = balanced_accuracy_score(y_test, y_pred_rf)\n",
        "print(f\"Balanced Accuracy : {balanced_acc:.2f}, AUC-ROC : {roc_auc:.2f}\")"
      ]
    }
  ],
  "metadata": {
    "kernelspec": {
      "display_name": "Python 3 (ipykernel)",
      "language": "python",
      "name": "python3"
    },
    "language_info": {
      "codemirror_mode": {
        "name": "ipython",
        "version": 3
      },
      "file_extension": ".py",
      "mimetype": "text/x-python",
      "name": "python",
      "nbconvert_exporter": "python",
      "pygments_lexer": "ipython3",
      "version": "3.11.5"
    },
    "colab": {
      "provenance": []
    }
  },
  "nbformat": 4,
  "nbformat_minor": 5
}